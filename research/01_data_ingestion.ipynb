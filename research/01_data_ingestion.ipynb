{
 "cells": [
  {
   "cell_type": "code",
   "execution_count": 27,
   "id": "a4a6688e",
   "metadata": {},
   "outputs": [],
   "source": [
    "import sys\n",
    "import os\n",
    "\n",
    "# Add the src directory to PYTHONPATH\n",
    "sys.path.append(os.path.abspath(\"src\"))"
   ]
  },
  {
   "cell_type": "code",
   "execution_count": 28,
   "id": "a6f2fdca",
   "metadata": {},
   "outputs": [
    {
     "data": {
      "text/plain": [
       "'d:\\\\MyProjects\\\\Project-01\\\\Text-Summarizer-Project'"
      ]
     },
     "execution_count": 28,
     "metadata": {},
     "output_type": "execute_result"
    }
   ],
   "source": [
    "%pwd"
   ]
  },
  {
   "cell_type": "code",
   "execution_count": 29,
   "id": "858aea2d",
   "metadata": {},
   "outputs": [],
   "source": [
    "\n",
    "# os.chdir('../')\n",
    "\n",
    "# import os\n",
    "os.chdir(\"d:/MyProjects/Project-01/Text-Summarizer-Project\")\n",
    "# print(\"Current Working Directory:\", os.getcwd())"
   ]
  },
  {
   "cell_type": "code",
   "execution_count": 30,
   "id": "5c0eae93",
   "metadata": {},
   "outputs": [
    {
     "data": {
      "text/plain": [
       "'d:\\\\MyProjects\\\\Project-01\\\\Text-Summarizer-Project'"
      ]
     },
     "execution_count": 30,
     "metadata": {},
     "output_type": "execute_result"
    }
   ],
   "source": [
    "%pwd"
   ]
  },
  {
   "cell_type": "code",
   "execution_count": 31,
   "id": "26af9be7",
   "metadata": {},
   "outputs": [],
   "source": [
    "from dataclasses import dataclass\n",
    "from pathlib import Path\n",
    "\n",
    "@dataclass(frozen=True)\n",
    "class DataIngestionConfig:\n",
    "    root_dir: Path\n",
    "    source_url: str\n",
    "    local_data_file: Path\n",
    "    unzip_dir: Path\n",
    "    "
   ]
  },
  {
   "cell_type": "code",
   "execution_count": 32,
   "id": "b76bc5dd",
   "metadata": {},
   "outputs": [],
   "source": [
    "from textSummarizer.constants import *\n",
    "from textSummarizer.utils.common import read_yaml, create_directories"
   ]
  },
  {
   "cell_type": "code",
   "execution_count": 33,
   "id": "165fc59b",
   "metadata": {},
   "outputs": [],
   "source": [
    "class ConfigurationManager:\n",
    "    def __init__(self, config_filepath = CONFIG_FILE_PATH, \n",
    "                 params_filepath = PARAMS_FILE_PATH):\n",
    "        \n",
    "        self.config = read_yaml(str(config_filepath))\n",
    "        self.params = read_yaml(str(params_filepath))\n",
    "        create_directories([self.config.artifacts_root])\n",
    "\n",
    "    def get_data_ingestion_config(self) -> DataIngestionConfig:\n",
    "        config = self.config.data_ingestion \n",
    "        create_directories([config.root_dir]) \n",
    "\n",
    "        data_ingestion_config = DataIngestionConfig(\n",
    "            root_dir=config.root_dir,\n",
    "            source_url=config.source_url,\n",
    "            local_data_file=config.local_data_file,\n",
    "            unzip_dir=config.unzip_dir\n",
    "        )\n",
    "\n",
    "        return data_ingestion_config   \n"
   ]
  },
  {
   "cell_type": "code",
   "execution_count": 34,
   "id": "c6e8b50a",
   "metadata": {},
   "outputs": [],
   "source": [
    "import os\n",
    "import urllib.request as request\n",
    "import zipfile\n",
    "from textSummarizer.logging import logger\n",
    "from textSummarizer.utils.common import get_size\n",
    "\n",
    "\n",
    "\n"
   ]
  },
  {
   "cell_type": "code",
   "execution_count": 35,
   "id": "2d095b2b",
   "metadata": {},
   "outputs": [],
   "source": [
    "class DataIngestion:\n",
    "    def __init__(self, config: DataIngestionConfig):\n",
    "        self.config = config\n",
    "\n",
    "    def download_file(self):\n",
    "        try:\n",
    "            if not os.path.exists(self.config.local_data_file):\n",
    "                file_name, _ = request.urlretrieve(\n",
    "                    url=self.config.source_url,\n",
    "                    filename=self.config.local_data_file\n",
    "                )\n",
    "                logger.info(f\"{file_name} downloaded successfully\")\n",
    "            else:\n",
    "                logger.info(f\"File already exists of size {get_size(Path(self.config.local_data_file))}\")\n",
    "        except request.HTTPError as http_err:\n",
    "            logger.error(f\"HTTP error occurred: {http_err.code} - {http_err.reason}\")\n",
    "        except Exception as e:\n",
    "            logger.error(f\"An unexpected error occurred: {e}\")\n",
    "            raise \n",
    "        \n",
    "\n",
    "    def extract_zip_file(self):\n",
    "        \"\"\"\n",
    "        Extracts the zip file to the specified directory.\n",
    "        \"\"\"\n",
    "        unzip_path = self.config.unzip_dir\n",
    "        os.makedirs(unzip_path, exist_ok=True)\n",
    "        try:\n",
    "            logger.info(f\"Extracting file: {self.config.local_data_file}\")\n",
    "            with zipfile.ZipFile(self.config.local_data_file, 'r') as zip_ref:\n",
    "                zip_ref.extractall(unzip_path)\n",
    "                logger.info(f\"Extracted {self.config.local_data_file} to {unzip_path}\")\n",
    "        except zipfile.BadZipFile as e:\n",
    "            logger.error(f\"Bad ZIP file: {e}\")\n",
    "            raise e\n",
    "        except Exception as e:\n",
    "            logger.error(f\"An unexpected error occurred during extraction: {e}\", exc_info=True)\n",
    "            raise e\n",
    "\n",
    "    # def extract_zip_file(self):\n",
    "    #     \"\"\"\n",
    "    #     zip_file: str\n",
    "    #     Extracts the zip file to the specified directory.\n",
    "    #     Function returns None.\n",
    "    #     \"\"\"\n",
    "    #     unzip_path = self.config.unzip_dir\n",
    "    #     os.makedirs(unzip_path, exist_ok=True)\n",
    "    #     with zipfile.ZipFile(self.config.local_data_file, 'r') as zip_ref:\n",
    "    #         zip_ref.extractall(unzip_path)\n",
    "    #         logger.info(f\"Extracted {self.config.local_data_file} to {unzip_path}\") \n"
   ]
  },
  {
   "cell_type": "code",
   "execution_count": 36,
   "id": "2085e07b",
   "metadata": {},
   "outputs": [
    {
     "name": "stdout",
     "output_type": "stream",
     "text": [
      "[2025-04-12 18:14:32,281: INFO: common: 39: Directory: artifacts created successfully]\n",
      "[2025-04-12 18:14:32,281: INFO: common: 39: Directory: artifacts/data_ingestion created successfully]\n",
      "[2025-04-12 18:14:35,336: INFO: 2705554250: 12: artifacts/data_ingestion/summarizer-data.zip downloaded successfully]\n",
      "[2025-04-12 18:14:35,336: INFO: 2705554250: 29: Extracting file: artifacts/data_ingestion/summarizer-data.zip]\n",
      "[2025-04-12 18:14:35,534: INFO: 2705554250: 32: Extracted artifacts/data_ingestion/summarizer-data.zip to artifacts/data_ingestion]\n"
     ]
    }
   ],
   "source": [
    "try:\n",
    "    config = ConfigurationManager()\n",
    "    data_ingestion_config = config.get_data_ingestion_config()\n",
    "    data_ingestion = DataIngestion(config=data_ingestion_config)\n",
    "    data_ingestion.download_file()\n",
    "    data_ingestion.extract_zip_file()\n",
    "except FileNotFoundError as fnf_error:\n",
    "    logger.error(f\"File not found: {fnf_error}\")\n",
    "except Exception as e:\n",
    "    raise e    "
   ]
  }
 ],
 "metadata": {
  "kernelspec": {
   "display_name": "myvenv",
   "language": "python",
   "name": "python3"
  },
  "language_info": {
   "codemirror_mode": {
    "name": "ipython",
    "version": 3
   },
   "file_extension": ".py",
   "mimetype": "text/x-python",
   "name": "python",
   "nbconvert_exporter": "python",
   "pygments_lexer": "ipython3",
   "version": "3.9.21"
  }
 },
 "nbformat": 4,
 "nbformat_minor": 5
}
